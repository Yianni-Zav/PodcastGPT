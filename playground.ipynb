{
 "cells": [
  {
   "cell_type": "code",
   "execution_count": 9,
   "metadata": {},
   "outputs": [],
   "source": [
    "import os\n",
    "import json\n",
    "import numpy as np\n",
    "import importlib\n",
    "from copy import copy\n",
    "from dataclasses import dataclass\n",
    "from typing import List, Dict, Any\n",
    "from enum import Enum\n",
    "from datetime import datetime\n",
<<<<<<< Updated upstream
    "\n",
=======
    "import requests\n",
    "from IPython.display import Audio\n",
    "import time\n",
    "from gtts import gTTS\n",
    "import re\n",
    "from mutagen.mp3 import MP3\n",
>>>>>>> Stashed changes
    "\n",
    "import Agents\n",
    "from Agents import PodcastAgent\n",
    "\n",
    "import Helpers\n",
    "from Helpers import save_podcast\n",
    "\n",
    "import tts\n",
    "from tts import Podcast\n",
    "\n",
    "import API_Keys\n",
    "\n",
    "import openai\n",
    "import tiktoken\n",
    "from youtube_transcript_api import YouTubeTranscriptApi"
   ]
  },
  {
   "cell_type": "code",
   "execution_count": null,
   "metadata": {},
   "outputs": [],
<<<<<<< Updated upstream
=======
   "source": []
  },
  {
   "cell_type": "code",
   "execution_count": null,
   "metadata": {},
   "outputs": [],
   "source": []
  },
  {
   "cell_type": "code",
   "execution_count": 11,
   "metadata": {},
   "outputs": [
    {
     "name": "stdout",
     "output_type": "stream",
     "text": [
      "API_Keys.py      GKMC.txt         \u001b[34mPodcasts\u001b[m\u001b[m         \u001b[34mmyenv\u001b[m\u001b[m\n",
      "Agents.py        Podcast.py       \u001b[34m__pycache__\u001b[m\u001b[m      playground.ipynb\n"
     ]
    }
   ],
   "source": []
  },
  {
   "cell_type": "code",
   "execution_count": 13,
   "metadata": {},
   "outputs": [
    {
     "data": {
      "text/plain": [
       "1623.6930612244898"
      ]
     },
     "execution_count": 13,
     "metadata": {},
     "output_type": "execute_result"
    }
   ],
   "source": [
    "MP3(\"./Podcasts/mchacks/podcast.mp3\").info.length"
   ]
  },
  {
   "cell_type": "code",
   "execution_count": null,
   "metadata": {},
   "outputs": [],
   "source": []
  },
  {
   "cell_type": "code",
   "execution_count": null,
   "metadata": {},
   "outputs": [],
>>>>>>> Stashed changes
   "source": [
    "# video_id = '6r_OgPtIae8'\n",
    "# transcript_json_raw = YouTubeTranscriptApi.get_transcript(video_id)\n",
    "# print(len(transcript_json_raw))\n",
    "# transcript = ''\n",
    "# for seg in transcript_json_raw:\n",
    "#     transcript += seg['text'] + ' '\n",
    "# enc = tiktoken.encoding_for_model(OPENAI_MODEL)\n",
    "# transcript_encoding = enc.encode(transcript)\n",
    "# print(len(transcript_encoding))"
   ]
  },
  {
   "cell_type": "code",
   "execution_count": null,
   "metadata": {},
   "outputs": [],
   "source": [
    "importlib.reload(API_Keys)"
   ]
  },
  {
   "cell_type": "code",
   "execution_count": null,
   "metadata": {},
   "outputs": [],
   "source": []
  },
  {
   "cell_type": "code",
   "execution_count": null,
   "metadata": {},
   "outputs": [],
   "source": []
  },
  {
   "cell_type": "code",
   "execution_count": null,
   "metadata": {},
   "outputs": [],
   "source": []
  },
  {
   "cell_type": "code",
   "execution_count": null,
   "metadata": {},
   "outputs": [],
   "source": []
  },
  {
   "cell_type": "code",
<<<<<<< Updated upstream
   "execution_count": null,
   "metadata": {},
   "outputs": [],
   "source": []
  },
  {
   "cell_type": "code",
   "execution_count": null,
=======
   "execution_count": 16,
   "metadata": {},
   "outputs": [
    {
     "name": "stdout",
     "output_type": "stream",
     "text": [
      "MoviePy - Writing audio in ./Podcasts/mchacks/podcast.mp3\n"
     ]
    },
    {
     "name": "stderr",
     "output_type": "stream",
     "text": [
      "                                                                                "
     ]
    },
    {
     "name": "stdout",
     "output_type": "stream",
     "text": [
      "MoviePy - Done.\n",
      "Removed file: ./Podcasts/mchacks/clip8.mp3\n",
      "Removed file: ./Podcasts/mchacks/clip9.mp3\n",
      "Removed file: ./Podcasts/mchacks/clip17.mp3\n",
      "Removed file: ./Podcasts/mchacks/clip16.mp3\n",
      "Removed file: ./Podcasts/mchacks/clip14.mp3\n",
      "Removed file: ./Podcasts/mchacks/clip15.mp3\n",
      "Removed file: ./Podcasts/mchacks/clip11.mp3\n",
      "Removed file: ./Podcasts/mchacks/clip10.mp3\n",
      "Removed file: ./Podcasts/mchacks/clip12.mp3\n",
      "Removed file: ./Podcasts/mchacks/clip13.mp3\n",
      "Removed file: ./Podcasts/mchacks/clip21.mp3\n",
      "Removed file: ./Podcasts/mchacks/clip20.mp3\n",
      "Removed file: ./Podcasts/mchacks/clip18.mp3\n",
      "Removed file: ./Podcasts/mchacks/clip19.mp3\n",
      "Removed file: ./Podcasts/mchacks/clip7.mp3\n",
      "Removed file: ./Podcasts/mchacks/clip6.mp3\n",
      "Removed file: ./Podcasts/mchacks/clip4.mp3\n",
      "Removed file: ./Podcasts/mchacks/clip5.mp3\n",
      "Removed file: ./Podcasts/mchacks/clip1.mp3\n",
      "Removed file: ./Podcasts/mchacks/clip2.mp3\n",
      "Removed file: ./Podcasts/mchacks/clip3.mp3\n"
     ]
    },
    {
     "name": "stderr",
     "output_type": "stream",
     "text": [
      "\r"
     ]
    }
   ],
   "source": [
    "pod = podcast.get_podcast()\n",
    "mp3_count = 1\n",
    "mp3_paths = []\n",
    "durations = []\n",
    "directory = f\"./Podcasts/{podcast.filename.replace('.txt','')}/\"\n",
    "\n",
    "host_b = True\n",
    "\n",
    "for message in pod:\n",
    "    if host_b:\n",
    "        tts = gTTS(message)\n",
    "        # response = podcast.tts(message,podcast.host.voice_id)\n",
    "    else:\n",
    "        tts = gTTS(message)\n",
    "        # response = podcast.tts(message,podcast.guest.voice_id)\n",
    "\n",
    "    filename = \"clip\" + str(mp3_count) + \".mp3\"\n",
    "    \n",
    "    filepath = os.path.join(directory, filename)\n",
    "    mp3_paths += [filepath]\n",
    "    \n",
    "    \n",
    "    if not os.path.exists(directory):\n",
    "        os.makedirs(directory)\n",
    "\n",
    "    tts.save(filepath)\n",
    "    durations += [MP3(filepath).info.length]\n",
    "\n",
    "    mp3_count+=1\n",
    "    host_b = not host_b\n",
    "\n",
    "podcast.concatenate_audioclips(mp3_paths, directory + \"podcast.mp3\")\n",
    "\n",
    "pattern = r\"clip\\d+\\.mp3\"  # Regular expression pattern to match file names\n",
    "for filename in os.listdir(directory):\n",
    "    if re.match(pattern, filename):\n",
    "        file_path = os.path.join(directory, filename)\n",
    "        os.remove(file_path)\n",
    "        print(f\"Removed file: {file_path}\")\n"
   ]
  },
  {
   "cell_type": "code",
   "execution_count": 17,
   "metadata": {},
   "outputs": [
    {
     "data": {
      "text/plain": [
       "[11.472,\n",
       " 78.768,\n",
       " 31.608,\n",
       " 105.048,\n",
       " 33.504,\n",
       " 124.272,\n",
       " 36.48,\n",
       " 105.48,\n",
       " 40.056,\n",
       " 130.776,\n",
       " 42.768,\n",
       " 141.6,\n",
       " 44.712,\n",
       " 191.688,\n",
       " 45.72,\n",
       " 120.672,\n",
       " 54.888,\n",
       " 170.376,\n",
       " 61.392,\n",
       " 199.92,\n",
       " 51.216]"
      ]
     },
     "execution_count": 17,
     "metadata": {},
     "output_type": "execute_result"
    }
   ],
   "source": [
    "durations"
   ]
  },
  {
   "cell_type": "code",
   "execution_count": 8,
>>>>>>> Stashed changes
   "metadata": {},
   "outputs": [],
   "source": []
  },
  {
   "cell_type": "code",
   "execution_count": null,
   "metadata": {},
   "outputs": [],
   "source": []
  },
  {
   "cell_type": "code",
   "execution_count": null,
   "metadata": {},
   "outputs": [],
   "source": []
  },
  {
   "cell_type": "code",
   "execution_count": null,
   "metadata": {},
   "outputs": [],
   "source": []
  },
  {
   "cell_type": "code",
   "execution_count": null,
   "metadata": {},
   "outputs": [],
   "source": []
  },
  {
   "cell_type": "code",
   "execution_count": null,
   "metadata": {},
   "outputs": [],
   "source": []
  },
  {
   "cell_type": "code",
   "execution_count": null,
   "metadata": {},
   "outputs": [],
   "source": []
  },
  {
   "cell_type": "code",
   "execution_count": null,
   "metadata": {},
   "outputs": [],
   "source": []
  },
  {
   "cell_type": "code",
   "execution_count": null,
   "metadata": {},
   "outputs": [],
   "source": []
  },
  {
   "cell_type": "code",
   "execution_count": null,
   "metadata": {},
   "outputs": [],
   "source": []
  },
  {
   "cell_type": "code",
   "execution_count": null,
   "metadata": {},
   "outputs": [],
   "source": []
  },
  {
   "cell_type": "code",
   "execution_count": null,
   "metadata": {},
   "outputs": [],
   "source": []
  },
  {
   "cell_type": "code",
   "execution_count": null,
   "metadata": {},
   "outputs": [],
   "source": []
  },
  {
   "cell_type": "code",
   "execution_count": null,
   "metadata": {},
   "outputs": [],
   "source": []
  },
  {
   "cell_type": "code",
   "execution_count": null,
   "metadata": {},
   "outputs": [],
   "source": []
  },
  {
   "cell_type": "code",
   "execution_count": null,
   "metadata": {},
   "outputs": [],
   "source": []
  },
  {
   "cell_type": "code",
   "execution_count": null,
   "metadata": {},
   "outputs": [],
   "source": []
  },
  {
   "cell_type": "code",
   "execution_count": null,
   "metadata": {},
   "outputs": [],
   "source": []
  },
  {
   "cell_type": "code",
   "execution_count": null,
   "metadata": {},
   "outputs": [],
   "source": [
    "session = Session(aws_access_key_id=API_Keys.AWS_ACCESS_KEY_ID,\n",
    "                  aws_secret_access_key=API_Keys.AWS_SECRET_ACCESS_KEY,\n",
    "                  region_name=\"us-east-1\")\n",
    "polly = session.client(\"polly\")"
   ]
  },
  {
   "cell_type": "code",
   "execution_count": null,
   "metadata": {},
   "outputs": [],
   "source": [
    "response = polly.synthesize_speech(VoiceId='Joanna',\n",
    "                OutputFormat='mp3', \n",
    "                Text = 'Test Test Test',\n",
    "                Engine = 'neural')"
   ]
  },
  {
   "cell_type": "code",
   "execution_count": null,
   "metadata": {},
   "outputs": [],
   "source": []
  },
  {
   "cell_type": "code",
   "execution_count": null,
   "metadata": {},
   "outputs": [],
   "source": [
    "importlib.reload(tts)\n",
    "import tts\n",
    "from tts import Podcast"
   ]
  },
  {
   "cell_type": "code",
   "execution_count": 5,
   "metadata": {},
   "outputs": [
    {
     "ename": "TypeError",
     "evalue": "write() argument must be str, not Podcast",
     "output_type": "error",
     "traceback": [
      "\u001b[0;31m---------------------------------------------------------------------------\u001b[0m",
      "\u001b[0;31mTypeError\u001b[0m                                 Traceback (most recent call last)",
      "\u001b[0;32m<ipython-input-5-62345294f0ff>\u001b[0m in \u001b[0;36m<module>\u001b[0;34m\u001b[0m\n\u001b[0;32m----> 1\u001b[0;31m \u001b[0mtest_pod\u001b[0m \u001b[0;34m=\u001b[0m \u001b[0mPodcast\u001b[0m\u001b[0;34m(\u001b[0m\u001b[0;34m\"../TestTexts/CvsL08.txt\"\u001b[0m\u001b[0;34m)\u001b[0m\u001b[0;34m\u001b[0m\u001b[0;34m\u001b[0m\u001b[0m\n\u001b[0m",
      "\u001b[0;32m~/Desktop/PodcastGPT/Code/tts.py\u001b[0m in \u001b[0;36m__init__\u001b[0;34m(self, input_string)\u001b[0m\n\u001b[1;32m     26\u001b[0m         \u001b[0mself\u001b[0m\u001b[0;34m.\u001b[0m\u001b[0mguest\u001b[0m \u001b[0;34m=\u001b[0m \u001b[0mPodcastAgent\u001b[0m\u001b[0;34m(\u001b[0m\u001b[0;34m)\u001b[0m\u001b[0;34m\u001b[0m\u001b[0;34m\u001b[0m\u001b[0m\n\u001b[1;32m     27\u001b[0m \u001b[0;34m\u001b[0m\u001b[0m\n\u001b[0;32m---> 28\u001b[0;31m         \u001b[0mself\u001b[0m\u001b[0;34m.\u001b[0m\u001b[0mgenerate_podcast\u001b[0m\u001b[0;34m(\u001b[0m\u001b[0;34m)\u001b[0m\u001b[0;34m\u001b[0m\u001b[0;34m\u001b[0m\u001b[0m\n\u001b[0m\u001b[1;32m     29\u001b[0m \u001b[0;34m\u001b[0m\u001b[0m\n\u001b[1;32m     30\u001b[0m \u001b[0;34m\u001b[0m\u001b[0m\n",
      "\u001b[0;32m~/Desktop/PodcastGPT/Code/tts.py\u001b[0m in \u001b[0;36mgenerate_podcast\u001b[0;34m(self)\u001b[0m\n\u001b[1;32m     58\u001b[0m             \u001b[0mself\u001b[0m\u001b[0;34m.\u001b[0m\u001b[0mguest\u001b[0m\u001b[0;34m.\u001b[0m\u001b[0mprompt\u001b[0m\u001b[0;34m(\u001b[0m\u001b[0mself\u001b[0m\u001b[0;34m.\u001b[0m\u001b[0mhost\u001b[0m\u001b[0;34m.\u001b[0m\u001b[0mget_latest_message\u001b[0m\u001b[0;34m(\u001b[0m\u001b[0;34m)\u001b[0m\u001b[0;34m.\u001b[0m\u001b[0mcontent\u001b[0m\u001b[0;34m.\u001b[0m\u001b[0mreplace\u001b[0m\u001b[0;34m(\u001b[0m\u001b[0;34m\"as an AI language model\"\u001b[0m\u001b[0;34m,\u001b[0m\u001b[0;34m\"\"\u001b[0m\u001b[0;34m)\u001b[0m\u001b[0;34m)\u001b[0m\u001b[0;34m\u001b[0m\u001b[0;34m\u001b[0m\u001b[0m\n\u001b[1;32m     59\u001b[0m             \u001b[0mself\u001b[0m\u001b[0;34m.\u001b[0m\u001b[0mhost\u001b[0m\u001b[0;34m.\u001b[0m\u001b[0mprompt\u001b[0m\u001b[0;34m(\u001b[0m\u001b[0mself\u001b[0m\u001b[0;34m.\u001b[0m\u001b[0mguest\u001b[0m\u001b[0;34m.\u001b[0m\u001b[0mget_latest_message\u001b[0m\u001b[0;34m(\u001b[0m\u001b[0;34m)\u001b[0m\u001b[0;34m.\u001b[0m\u001b[0mcontent\u001b[0m\u001b[0;34m.\u001b[0m\u001b[0mreplace\u001b[0m\u001b[0;34m(\u001b[0m\u001b[0;34m\"as an AI language model\"\u001b[0m\u001b[0;34m,\u001b[0m\u001b[0;34m\"\"\u001b[0m\u001b[0;34m)\u001b[0m\u001b[0;34m)\u001b[0m\u001b[0;34m\u001b[0m\u001b[0;34m\u001b[0m\u001b[0m\n\u001b[0;32m---> 60\u001b[0;31m         \u001b[0mself\u001b[0m\u001b[0;34m.\u001b[0m\u001b[0msave_podcast\u001b[0m\u001b[0;34m(\u001b[0m\u001b[0;34m)\u001b[0m\u001b[0;34m\u001b[0m\u001b[0;34m\u001b[0m\u001b[0m\n\u001b[0m\u001b[1;32m     61\u001b[0m \u001b[0;34m\u001b[0m\u001b[0m\n\u001b[1;32m     62\u001b[0m     \u001b[0;32mdef\u001b[0m \u001b[0minit_agents\u001b[0m\u001b[0;34m(\u001b[0m\u001b[0mself\u001b[0m\u001b[0;34m)\u001b[0m\u001b[0;34m:\u001b[0m\u001b[0;34m\u001b[0m\u001b[0;34m\u001b[0m\u001b[0m\n",
      "\u001b[0;32m~/Desktop/PodcastGPT/Code/tts.py\u001b[0m in \u001b[0;36msave_podcast\u001b[0;34m(self, podcast_description)\u001b[0m\n\u001b[1;32m    119\u001b[0m             \u001b[0mfile\u001b[0m\u001b[0;34m.\u001b[0m\u001b[0mwrite\u001b[0m\u001b[0;34m(\u001b[0m\u001b[0;34m\"Podcast Conversation\\n\"\u001b[0m\u001b[0;34m)\u001b[0m\u001b[0;34m\u001b[0m\u001b[0;34m\u001b[0m\u001b[0m\n\u001b[1;32m    120\u001b[0m             \u001b[0mfile\u001b[0m\u001b[0;34m.\u001b[0m\u001b[0mwrite\u001b[0m\u001b[0;34m(\u001b[0m\u001b[0;34mf\"Description: {podcast_description}\\n\\n\"\u001b[0m\u001b[0;34m)\u001b[0m\u001b[0;34m\u001b[0m\u001b[0;34m\u001b[0m\u001b[0m\n\u001b[0;32m--> 121\u001b[0;31m             \u001b[0mfile\u001b[0m\u001b[0;34m.\u001b[0m\u001b[0mwrite\u001b[0m\u001b[0;34m(\u001b[0m\u001b[0mself\u001b[0m\u001b[0;34m)\u001b[0m\u001b[0;34m\u001b[0m\u001b[0;34m\u001b[0m\u001b[0m\n\u001b[0m\u001b[1;32m    122\u001b[0m \u001b[0;34m\u001b[0m\u001b[0m\n\u001b[1;32m    123\u001b[0m         \u001b[0mprint\u001b[0m\u001b[0;34m(\u001b[0m\u001b[0;34mf\"Podcast script saved to {filepath}\"\u001b[0m\u001b[0;34m)\u001b[0m\u001b[0;34m\u001b[0m\u001b[0;34m\u001b[0m\u001b[0m\n",
      "\u001b[0;31mTypeError\u001b[0m: write() argument must be str, not Podcast"
     ]
    }
   ],
   "source": [
    "test_pod = Podcast(\"../TestTexts/CvsL08.txt\")"
   ]
  },
  {
   "cell_type": "code",
   "execution_count": null,
   "metadata": {},
   "outputs": [],
   "source": [
    "print(test_pod)"
   ]
  },
  {
   "cell_type": "code",
   "execution_count": null,
   "metadata": {},
   "outputs": [],
   "source": []
  },
  {
   "cell_type": "code",
   "execution_count": null,
   "metadata": {},
   "outputs": [],
   "source": [
    "test_pod.filename = \"\""
   ]
  },
  {
   "cell_type": "code",
   "execution_count": null,
   "metadata": {},
   "outputs": [],
   "source": [
    "test_pod.get_filename()"
   ]
  },
  {
   "cell_type": "code",
   "execution_count": null,
   "metadata": {},
   "outputs": [],
   "source": [
    "test_pod.to_mp3()"
   ]
  },
  {
   "cell_type": "code",
   "execution_count": null,
   "metadata": {},
   "outputs": [],
   "source": []
  },
  {
   "cell_type": "code",
   "execution_count": null,
   "metadata": {},
   "outputs": [],
   "source": [
    "def concatenate_audio_moviepy(audio_clip_paths, output_path):\n",
    "    clips = [AudioFileClip(c) for c in audio_clip_paths]\n",
    "    final_clip = concatenate_audioclips(clips)\n",
    "    final_clip.write_audiofile(output_path)"
   ]
  },
  {
   "cell_type": "code",
   "execution_count": null,
   "metadata": {},
   "outputs": [],
   "source": [
    "from os import listdir\n",
    "from os.path import isfile, join\n",
    "from moviepy.editor import concatenate_audioclips, AudioFileClip\n",
    "pod_dir = \"podcast_conversation_06-04_v2\"\n",
    "pod_files = [pod_dir + \"/\" + f for f in listdir(pod_dir) if isfile(join(pod_dir, f))]"
   ]
  },
  {
   "cell_type": "code",
   "execution_count": null,
   "metadata": {},
   "outputs": [],
   "source": []
  },
  {
   "cell_type": "code",
   "execution_count": null,
   "metadata": {},
   "outputs": [],
   "source": [
    "concatenate_audio_moviepy(pod_files[:2],\"final_pod.mp3\")"
   ]
  },
  {
   "cell_type": "code",
   "execution_count": null,
   "metadata": {},
   "outputs": [],
   "source": []
<<<<<<< Updated upstream
=======
  },
  {
   "cell_type": "code",
   "execution_count": null,
   "metadata": {},
   "outputs": [],
   "source": []
  },
  {
   "cell_type": "code",
   "execution_count": null,
   "metadata": {},
   "outputs": [],
   "source": []
  },
  {
   "cell_type": "code",
   "execution_count": null,
   "metadata": {},
   "outputs": [],
   "source": []
  },
  {
   "cell_type": "code",
   "execution_count": null,
   "metadata": {},
   "outputs": [],
   "source": []
  },
  {
   "cell_type": "code",
   "execution_count": null,
   "metadata": {},
   "outputs": [],
   "source": []
  },
  {
   "cell_type": "code",
   "execution_count": null,
   "metadata": {},
   "outputs": [],
   "source": []
  },
  {
   "cell_type": "code",
   "execution_count": null,
   "metadata": {},
   "outputs": [],
   "source": []
  },
  {
   "cell_type": "code",
   "execution_count": null,
   "metadata": {},
   "outputs": [],
   "source": []
  },
  {
   "cell_type": "code",
   "execution_count": null,
   "metadata": {},
   "outputs": [],
   "source": []
  },
  {
   "cell_type": "code",
   "execution_count": null,
   "metadata": {},
   "outputs": [],
   "source": []
  },
  {
   "cell_type": "code",
   "execution_count": null,
   "metadata": {},
   "outputs": [],
   "source": []
>>>>>>> Stashed changes
  }
 ],
 "metadata": {
  "kernelspec": {
   "display_name": "Python 3",
   "language": "python",
   "name": "python3"
  },
  "language_info": {
   "codemirror_mode": {
    "name": "ipython",
    "version": 3
   },
   "file_extension": ".py",
   "mimetype": "text/x-python",
   "name": "python",
   "nbconvert_exporter": "python",
   "pygments_lexer": "ipython3",
   "version": "3.8.3"
  },
  "vscode": {
   "interpreter": {
    "hash": "31f2aee4e71d21fbe5cf8b01ff0e069b9275f58929596ceb00d14d90e3e16cd6"
   }
  }
 },
 "nbformat": 4,
 "nbformat_minor": 4
}
